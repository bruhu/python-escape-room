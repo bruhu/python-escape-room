{
  "nbformat": 4,
  "nbformat_minor": 0,
  "metadata": {
    "colab": {
      "provenance": [],
      "authorship_tag": "ABX9TyNj+wQjQRXnY1GuZs3IuUmj",
      "include_colab_link": true
    },
    "kernelspec": {
      "name": "python3",
      "display_name": "Python 3"
    },
    "language_info": {
      "name": "python"
    }
  },
  "cells": [
    {
      "cell_type": "markdown",
      "metadata": {
        "id": "view-in-github",
        "colab_type": "text"
      },
      "source": [
        "<a href=\"https://colab.research.google.com/github/bruhu/python-escape-room/blob/main/escape_room_structures.ipynb\" target=\"_parent\"><img src=\"https://colab.research.google.com/assets/colab-badge.svg\" alt=\"Open In Colab\"/></a>"
      ]
    },
    {
      "cell_type": "markdown",
      "source": [
        "# Structures\n",
        "\n",
        "## Items\n",
        "\n",
        "Possible actions:\n",
        "* examine\n",
        "\n",
        "Names:\n",
        " * couch\n",
        " * piano\n",
        " * key\n",
        " * door\n",
        " * bed (queen, double)\n",
        " * dresser\n",
        "\n",
        "## Rooms\n",
        "\n",
        "list of items\n",
        "\n",
        "list of doors\n",
        "\n",
        "Possible actions:\n",
        "* explore\n",
        "\n",
        "## Keys\n",
        "\n",
        "list of keys"
      ],
      "metadata": {
        "id": "ln-2SwPUq6Zj"
      }
    },
    {
      "cell_type": "markdown",
      "source": [
        "\n",
        "# Sample structures\n",
        "\n",
        "```\n",
        "def do_action(item):\n",
        "  print(\"You see the following:\")\n",
        "  for i in item.items: print(\"* \" + i)\n",
        "\n",
        "def open_door(key, door):\n",
        "  print(\"Something...\")\n",
        "\n",
        "key_A = {\n",
        "  name: \"A\"\n",
        "}\n",
        "\n",
        "key_B = {\n",
        "  name: \"B\"\n",
        "}\n",
        "\n",
        "item_couch = {\n",
        "  name: \"Couch\",\n",
        "  items: []\n",
        "}\n",
        "\n",
        "item_piano = {\n",
        "  name: \"Piano\",\n",
        "  items: [key_A]\n",
        "}\n",
        "\n",
        "item_queen_bed = {\n",
        "  name: \"Queen Bed\",\n",
        "  items: [Key_B]\n",
        "}\n",
        "\n",
        "door_B = {\n",
        "  name: \"B\"\n",
        "}\n",
        "\n",
        "door_C = {\n",
        "  name: \"C\"\n",
        "}\n",
        "\n",
        "room_bedroom_1 = {\n",
        "  name: \"Bedroom 1\"\n",
        "  items: [item_queen_bed],\n",
        "  doors: [door_B, door_C]\n",
        "}\n",
        "\n",
        "door_A = {\n",
        "  name: \"A\"\n",
        "  room: room_bedroom_1\n",
        "}\n",
        "\n",
        "room_game_room = {\n",
        "  name: \"Game Room\"\n",
        "  items: [item_couch, item_piano]\n",
        "  doors: [door_A]\n",
        "}\n",
        "\n",
        "```"
      ],
      "metadata": {
        "id": "ONLV9vNas1UW"
      }
    },
    {
      "cell_type": "code",
      "source": [
        "# Initial Structures\n",
        "\n",
        "key_A = { \"type\": \"key\", \"name\": \"yellow\" }\n",
        "key_B = { \"type\": \"key\", \"name\": \"pink\" }\n",
        "key_C = { \"type\": \"key\", \"name\": \"blue\" }\n",
        "key_D = { \"type\": \"key\", \"name\": \"green\" }\n",
        "\n",
        "door_A = { \"type\": \"door\", \"name\": \"yellow\" }\n",
        "door_B = { \"type\": \"door\", \"name\": \"pink\" }\n",
        "door_C = { \"type\": \"door\", \"name\": \"blue\" }\n",
        "door_D = { \"type\": \"door\", \"name\": \"green\" }\n",
        "\n",
        "item_couch = { \"type\": \"item\", \"name\": \"Couch\", \"items\": [] }\n",
        "item_piano = { \"type\": \"item\", \"name\": \"Piano\", \"items\": [key_A] }\n",
        "item_queen_bed = { \"type\": \"item\", \"name\": \"Queen Bed\", \"items\": [key_B] }\n",
        "item_double_bed = { \"type\": \"item\", \"name\": \"Double Bed\", \"items\": [key_C] }\n",
        "item_dining_table = { \"type\": \"item\", \"name\": \"Dining Table\", \"items\": [] }\n",
        "\n",
        "room_game = { \"type\": \"room\", \"name\": \"Game Room\", \"items\": [item_couch, item_piano], \"doors\": [door_A] }\n",
        "room_bedroom_1 = { \"type\": \"room\", \"name\": \"Bedroom 1\", \"items\": [item_queen_bed], \"doors\": [door_A, door_B, door_C] }\n",
        "room_bedroom_2 = { \"type\": \"room\", \"name\": \"Bedroom 2\", \"items\": [item_double_bed], \"doors\": [door_C, door_D] }\n",
        "room_living_room = { \"type\": \"room\", \"name\": \"Living Room\", \"items\": [item_dining_table], \"doors\": [door_C] }\n",
        "room_outside = { \"type\": \"room\", \"name\": \"Outside\", \"items\": [], \"doors\": [] }\n",
        "\n",
        "game_state = { \"current_room\": room_game, \"inventory\": [] }"
      ],
      "metadata": {
        "id": "KKDOTHKric0k"
      },
      "execution_count": 5,
      "outputs": []
    }
  ]
}