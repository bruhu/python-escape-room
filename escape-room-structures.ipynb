{
  "nbformat": 4,
  "nbformat_minor": 0,
  "metadata": {
    "colab": {
      "provenance": [],
      "authorship_tag": "ABX9TyN/NF1Kp1iQrlSrGt/12DPh",
      "include_colab_link": true
    },
    "kernelspec": {
      "name": "python3",
      "display_name": "Python 3"
    },
    "language_info": {
      "name": "python"
    }
  },
  "cells": [
    {
      "cell_type": "markdown",
      "metadata": {
        "id": "view-in-github",
        "colab_type": "text"
      },
      "source": [
        "<a href=\"https://colab.research.google.com/github/bruhu/python-escape-room/blob/main/escape-room-structures.ipynb\" target=\"_parent\"><img src=\"https://colab.research.google.com/assets/colab-badge.svg\" alt=\"Open In Colab\"/></a>"
      ]
    },
    {
      "cell_type": "markdown",
      "source": [
        "# Structures\n",
        "\n",
        "## Items\n",
        "\n",
        "Possible actions:\n",
        "* examine\n",
        "\n",
        "Names:\n",
        " * couch\n",
        " * piano\n",
        " * key\n",
        " * door\n",
        " * bed (queen, double)\n",
        " * dresser\n",
        "\n",
        "## Rooms\n",
        "\n",
        "list of items\n",
        "\n",
        "list of doors\n",
        "\n",
        "Possible actions:\n",
        "* explore\n",
        "\n",
        "## Keys\n",
        "\n",
        "list of keys"
      ],
      "metadata": {
        "id": "ln-2SwPUq6Zj"
      }
    },
    {
      "cell_type": "markdown",
      "source": [
        "# Sample structures\n",
        "\n",
        "```\n",
        "def do_action(item):\n",
        "  print(\"You see the following:\")\n",
        "  for i in item.items: print(\"* \" + i)\n",
        "\n",
        "def open_door(key, door):\n",
        "  print(\"Something...\")\n",
        "\n",
        "key_A = {\n",
        "  name: \"A\"\n",
        "}\n",
        "\n",
        "key_B = {\n",
        "  name: \"B\"\n",
        "}\n",
        "\n",
        "item_couch = {\n",
        "  name: \"Couch\",\n",
        "  items: []\n",
        "}\n",
        "\n",
        "item_piano = {\n",
        "  name: \"Piano\",\n",
        "  items: [key_A]\n",
        "}\n",
        "\n",
        "item_queen_bed = {\n",
        "  name: \"Queen Bed\",\n",
        "  items: [Key_B]\n",
        "}\n",
        "\n",
        "door_B = {\n",
        "  name: \"B\"\n",
        "}\n",
        "\n",
        "door_C = {\n",
        "  name: \"C\"\n",
        "}\n",
        "\n",
        "room_bedroom_1 = {\n",
        "  name: \"Bedroom 1\"\n",
        "  items: [item_queen_bed],\n",
        "  doors: [door_B, door_C]\n",
        "}\n",
        "\n",
        "door_A = {\n",
        "  name: \"A\"\n",
        "  room: room_bedroom_1\n",
        "}\n",
        "\n",
        "room_game_room = {\n",
        "  name: \"Game Room\"\n",
        "  items: [item_couch, item_piano]\n",
        "  doors: [door_A]\n",
        "}\n",
        "\n",
        "```"
      ],
      "metadata": {
        "id": "ONLV9vNas1UW"
      }
    }
  ]
}