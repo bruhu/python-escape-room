{
 "cells": [
  {
   "cell_type": "code",
   "execution_count": 1,
   "metadata": {
    "id": "KKDOTHKric0k"
   },
   "outputs": [],
   "source": [
    "# Initial Structures\n",
    "\n",
    "key_A = { \"type\": \"key\", \"name\": \"yellow\" }\n",
    "key_B = { \"type\": \"key\", \"name\": \"pink\" }\n",
    "key_C = { \"type\": \"key\", \"name\": \"blue\" }\n",
    "key_D = { \"type\": \"key\", \"name\": \"green\" }\n",
    "\n",
    "door_A = { \"type\": \"item\", \"name\": \"yellow door\", \"description\": \"\", \"keys\": [] }\n",
    "door_B = { \"type\": \"item\", \"name\": \"pink door\", \"description\": \"\", \"keys\": []  }\n",
    "door_C = { \"type\": \"item\", \"name\": \"blue door\", \"description\": \"\", \"keys\": []  }\n",
    "door_D = { \"type\": \"item\", \"name\": \"green door\", \"description\": \"\", \"keys\": []  }\n",
    "\n",
    "item_couch = { \"type\": \"item\", \"name\": \"couch\", \"keys\": [], \"description\": \"There's a funky smelling couch... You can only find a cat toy underneath it.\" }\n",
    "item_piano = { \"type\": \"item\", \"name\": \"piano\", \"keys\": [key_A], \"description\": \"A grand piano with a yellow key inside of it!\" }\n",
    "item_queen_bed = { \"type\": \"item\", \"name\": \"queen bed\", \"keys\": [key_B], \"description\": \"A cozy queen bed. Underneath it you find a box with a small pink key inside of it!\" }\n",
    "item_double_bed = { \"type\": \"item\", \"name\": \"double bed\", \"keys\": [key_C], \"description\": \"A spacious double bed. Inside of the pillowcase you see the ouline of a key... it's a blue key!\" }\n",
    "item_dresser = { \"type\": \"item\", \"name\": \"dresser\", \"keys\": [key_D], \"description\": \"You can see a small dresser with some clothes inside of it and an antique-looking green key hidden in the second drawer.\"}\n",
    "item_dining_table = { \"type\": \"item\", \"name\": \"dining table\", \"keys\": [], \"description\": \"A large dining table with a runner on top of it.\" }\n",
    "\n",
    "room_game = { \"type\": \"room\", \"name\": \"Game Room\", \"items\": [item_couch, item_piano, door_A], \"doors\": [] }\n",
    "room_bedroom_1 = { \"type\": \"room\", \"name\": \"Bedroom 1\", \"items\": [item_queen_bed, door_A, door_B, door_C], \"doors\": [] }\n",
    "room_bedroom_2 = { \"type\": \"room\", \"name\": \"Bedroom 2\", \"items\": [item_double_bed, item_dresser, door_B], \"doors\": [] }\n",
    "room_living_room = { \"type\": \"room\", \"name\": \"Living Room\", \"items\": [item_dining_table, door_C, door_D], \"doors\": [] }\n",
    "room_outside = { \"type\": \"room\", \"name\": \"Outside\", \"items\": [], \"doors\": [] }\n",
    "\n",
    "room_transitions = {\n",
    "    \"yellow door\": [\n",
    "        { \"key\": key_A, \"from\": room_game, \"to\": room_bedroom_1 },\n",
    "        { \"key\": key_A, \"from\": room_bedroom_1, \"to\": room_game }\n",
    "    ],\n",
    "    \"pink door\": [\n",
    "        { \"key\": key_B, \"from\": room_bedroom_1, \"to\": room_bedroom_2 },\n",
    "        { \"key\": key_B, \"from\": room_bedroom_2, \"to\": room_bedroom_1 }\n",
    "    ],\n",
    "    \"blue door\": [\n",
    "        { \"key\": key_C, \"from\": room_bedroom_1, \"to\": room_living_room },\n",
    "        { \"key\": key_C, \"from\": room_living_room, \"to\": room_bedroom_1 }\n",
    "    ],\n",
    "    \"green door\": [\n",
    "        { \"key\": key_D, \"from\": room_living_room, \"to\": room_outside },\n",
    "        { \"key\": key_D, \"from\": room_outside, \"to\": room_living_room }\n",
    "    ]\n",
    "}\n",
    "\n",
    "game_state = { \"current_room\": room_game, \"inventory\": [], \"target_room\": room_outside }"
   ]
  },
  {
   "cell_type": "code",
   "execution_count": 5,
   "metadata": {
    "colab": {
     "base_uri": "https://localhost:8080/"
    },
    "id": "bhad1_Tp1uNn",
    "outputId": "84793edd-627a-45e7-da08-e51562a4beb2"
   },
   "outputs": [
    {
     "name": "stdin",
     "output_type": "stream",
     "text": [
      "Welcome to the Escape Room Game! Do you want to start playing? (yes, no) yes\n"
     ]
    },
    {
     "name": "stdout",
     "output_type": "stream",
     "text": [
      "Suddenly, you find yourself waking up on an unfamiliar couch, in an eerie house devoid of windows.\n",
      "Your memory fails to provide any explanation about how you ended up here, or what transpired previously. You can sense an imminent threat lurking somewhere - your gut tells you to escape the house immediately!\n",
      "You look around and realize you’re in a game room.\n",
      "\n",
      "'What should I do?' you ponder.\n",
      "You are in the Game Room.\n",
      "Here you can see the following items: couch, piano, yellow door.\n"
     ]
    },
    {
     "name": "stdin",
     "output_type": "stream",
     "text": [
      "Which item would you like to examine? (couch, piano, yellow door) yellow door\n"
     ]
    },
    {
     "name": "stdout",
     "output_type": "stream",
     "text": [
      "You examine the yellow door.\n",
      "You can't open that door.\n",
      "You are in the Game Room.\n",
      "Here you can see the following items: couch, piano, yellow door.\n"
     ]
    },
    {
     "name": "stdin",
     "output_type": "stream",
     "text": [
      "Which item would you like to examine? (couch, piano, yellow door) couch\n"
     ]
    },
    {
     "name": "stdout",
     "output_type": "stream",
     "text": [
      "You examine the couch.\n",
      "There's a funky smelling couch... You can only find a cat toy underneath it.\n",
      "You are in the Game Room.\n",
      "Here you can see the following items: couch, piano, yellow door.\n"
     ]
    },
    {
     "name": "stdin",
     "output_type": "stream",
     "text": [
      "Which item would you like to examine? (couch, piano, yellow door) piano\n"
     ]
    },
    {
     "name": "stdout",
     "output_type": "stream",
     "text": [
      "You examine the piano.\n",
      "A grand piano with a yellow key inside of it!\n",
      "A yellow key has been added to your inventory.\n",
      "You are in the Game Room.\n",
      "Here you can see the following items: couch, piano, yellow door.\n"
     ]
    },
    {
     "name": "stdin",
     "output_type": "stream",
     "text": [
      "Which item would you like to examine? (couch, piano, yellow door) yellow door\n"
     ]
    },
    {
     "name": "stdout",
     "output_type": "stream",
     "text": [
      "You examine the yellow door.\n",
      "You open the door and enter Bedroom 1.\n",
      "You are in the Bedroom 1.\n",
      "Here you can see the following items: queen bed, yellow door, pink door, blue door.\n"
     ]
    },
    {
     "name": "stdin",
     "output_type": "stream",
     "text": [
      "Which item would you like to examine? (queen bed, yellow door, pink door, blue door) pink door\n"
     ]
    },
    {
     "name": "stdout",
     "output_type": "stream",
     "text": [
      "You examine the pink door.\n",
      "You can't open that door.\n",
      "You are in the Bedroom 1.\n",
      "Here you can see the following items: queen bed, yellow door, pink door, blue door.\n"
     ]
    },
    {
     "name": "stdin",
     "output_type": "stream",
     "text": [
      "Which item would you like to examine? (queen bed, yellow door, pink door, blue door) blue door\n"
     ]
    },
    {
     "name": "stdout",
     "output_type": "stream",
     "text": [
      "You examine the blue door.\n",
      "You can't open that door.\n",
      "You are in the Bedroom 1.\n",
      "Here you can see the following items: queen bed, yellow door, pink door, blue door.\n"
     ]
    },
    {
     "name": "stdin",
     "output_type": "stream",
     "text": [
      "Which item would you like to examine? (queen bed, yellow door, pink door, blue door) queen bed\n"
     ]
    },
    {
     "name": "stdout",
     "output_type": "stream",
     "text": [
      "You examine the queen bed.\n",
      "A cozy queen bed. Underneath it you find a box with a small pink key inside of it!\n",
      "A pink key has been added to your inventory.\n",
      "You are in the Bedroom 1.\n",
      "Here you can see the following items: queen bed, yellow door, pink door, blue door.\n"
     ]
    },
    {
     "name": "stdin",
     "output_type": "stream",
     "text": [
      "Which item would you like to examine? (queen bed, yellow door, pink door, blue door) pink door\n"
     ]
    },
    {
     "name": "stdout",
     "output_type": "stream",
     "text": [
      "You examine the pink door.\n",
      "You open the door and enter Bedroom 2.\n",
      "You are in the Bedroom 2.\n",
      "Here you can see the following items: double bed, dresser, pink door.\n"
     ]
    },
    {
     "name": "stdin",
     "output_type": "stream",
     "text": [
      "Which item would you like to examine? (double bed, dresser, pink door) double bed\n"
     ]
    },
    {
     "name": "stdout",
     "output_type": "stream",
     "text": [
      "You examine the double bed.\n",
      "A spacious double bed. Inside of the pillowcase you see the ouline of a key... it's a blue key!\n",
      "A blue key has been added to your inventory.\n",
      "You are in the Bedroom 2.\n",
      "Here you can see the following items: double bed, dresser, pink door.\n"
     ]
    },
    {
     "name": "stdin",
     "output_type": "stream",
     "text": [
      "Which item would you like to examine? (double bed, dresser, pink door) dresser\n"
     ]
    },
    {
     "name": "stdout",
     "output_type": "stream",
     "text": [
      "You examine the dresser.\n",
      "You can see a small dresser with some clothes inside of it and an antique-looking green key hidden in the second drawer.\n",
      "A green key has been added to your inventory.\n",
      "You are in the Bedroom 2.\n",
      "Here you can see the following items: double bed, dresser, pink door.\n"
     ]
    },
    {
     "name": "stdin",
     "output_type": "stream",
     "text": [
      "Which item would you like to examine? (double bed, dresser, pink door) pink door\n"
     ]
    },
    {
     "name": "stdout",
     "output_type": "stream",
     "text": [
      "You examine the pink door.\n",
      "You open the door and enter Bedroom 1.\n",
      "You are in the Bedroom 1.\n",
      "Here you can see the following items: queen bed, yellow door, pink door, blue door.\n"
     ]
    },
    {
     "name": "stdin",
     "output_type": "stream",
     "text": [
      "Which item would you like to examine? (queen bed, yellow door, pink door, blue door) blue door\n"
     ]
    },
    {
     "name": "stdout",
     "output_type": "stream",
     "text": [
      "You examine the blue door.\n",
      "You open the door and enter Living Room.\n",
      "You are in the Living Room.\n",
      "Here you can see the following items: dining table, blue door, green door.\n"
     ]
    },
    {
     "name": "stdin",
     "output_type": "stream",
     "text": [
      "Which item would you like to examine? (dining table, blue door, green door) green door\n"
     ]
    },
    {
     "name": "stdout",
     "output_type": "stream",
     "text": [
      "You examine the green door.\n",
      "You open the door and enter Outside.\n",
      "Congratulations! You have escaped the room!\n"
     ]
    }
   ],
   "source": [
    "game_state[\"current_room\"] = room_game\n",
    "game_state[\"inventory\"].clear()\n",
    "\n",
    "def wait_for_choice(info, error = \"Invalid choice\", choices = [item['name'] for item in game_state[\"current_room\"][\"items\"]]):\n",
    "  while True:\n",
    "    choice = input(f\"{info} ({', '.join(choices)})\").strip().lower()\n",
    "    if choice in choices: return choice\n",
    "    else: print(error)\n",
    "\n",
    "def examine_item(item):\n",
    "\n",
    "  \"\"\"\n",
    "  The examine_item(item) function allows the player to examine a specific item in the room.\n",
    "  It prints the description of the item and, if the item contains any keys,\n",
    "  it adds them to the player's inventory and informs the player of this.\n",
    "  \"\"\"\n",
    "  # print description of the item\n",
    "  print(f\"You examine the {item['name']}.\")\n",
    "  if \"door\" in item['name'].lower(): open_door(item)\n",
    "  else: print(f\"{item['description']}\")\n",
    "\n",
    "  # add key to inventory\n",
    "  for key in item[\"keys\"]:\n",
    "    if key not in game_state[\"inventory\"]:\n",
    "      print(f\"A {key['name']} {key['type']} has been added to your inventory.\")\n",
    "      game_state[\"inventory\"].append(key)\n",
    "\n",
    "def examine_item_prompt():\n",
    "    \"\"\"\n",
    "\n",
    "    \"\"\"\n",
    "    # accepts choice of item player wants to examine\n",
    "    item_names = [item[\"name\"] for item in game_state[\"current_room\"][\"items\"]]\n",
    "    item_choice = wait_for_choice(\"Which item would you like to examine?\", \"Uh oh. You must be confused. Please choose between the items in the room.\", item_names)\n",
    "\n",
    "    # examine the chosen item\n",
    "    for item in game_state[\"current_room\"][\"items\"]:\n",
    "      if item[\"name\"] == item_choice: examine_item(item)\n",
    "\n",
    "def open_door(door):\n",
    "\n",
    "  \"\"\"\n",
    "  The open_door function attempts to open a door in the current room if the player has the required key.\n",
    "  It checks the player’s inventory for a key that matches the door and ensures that the door can transition from the current room to another room.\n",
    "  If the player has the correct key, they are moved to the connected room;\n",
    "  otherwise, the function informs them that the door cannot be opened.\n",
    "  Parameters:\n",
    "\n",
    "  game_state (dictionary): The current state of the game, including the player's current room and their inventory.\n",
    "  door (dictionary): The door the player is trying to open, containing details like its name (color).\n",
    "  Returns: None (the function directly updates the game_state if the door is opened, or prints a message if not).\n",
    "\n",
    "  \"\"\"\n",
    "\n",
    "  # check if a key in the inventory can transition from one room to the other\n",
    "  for transition in room_transitions[door[\"name\"]]:\n",
    "    if transition[\"key\"] in game_state[\"inventory\"] and transition[\"from\"] == game_state[\"current_room\"]:\n",
    "      game_state[\"current_room\"] = transition[\"to\"]\n",
    "      print(f\"You open the door and enter {game_state['current_room']['name']}.\")\n",
    "      return\n",
    "  print(\"You can't open that door.\")\n",
    "\n",
    "def start():\n",
    "  # prompt the player with yes/no to ask whether they want to continue playing\n",
    "  \"\"\"\n",
    "  The start() function initializes the Escape Room game. It begins by prompting the player with a yes/no choice to\n",
    "  confirm if they want to play the game. If they choose \"no,\" the game ends immediately.\n",
    "  If they choose \"yes,\", player is automatically exploring the room and the main game loop starts to ask\n",
    "  the player to examine items or doors until they successfully exit the house and win the game.\n",
    "  \"\"\"\n",
    "  start = wait_for_choice(\"Welcome to the Escape Room Game! Do you want to start playing?\", \"I'm sorry, I didn't understand that. Please answer with 'yes' or 'no'.\", [\"yes\", \"no\"])\n",
    "  if start == \"no\":\n",
    "    print(\"Alright. Bye!\")\n",
    "    return\n",
    "\n",
    "  print(\"Suddenly, you find yourself waking up on an unfamiliar couch, in an eerie house devoid of windows.\\nYour memory fails to provide any explanation about how you ended up here, or what transpired previously. You can sense an imminent threat lurking somewhere - your gut tells you to escape the house immediately!\\nYou look around and realize you’re in a game room.\\n\\n'What should I do?' you ponder.\")\n",
    "  # main game loop: keep asking for input until the player reaches outside\n",
    "  while game_state[\"current_room\"] != room_outside:\n",
    "    item_names = [item['name'] for item in game_state[\"current_room\"][\"items\"]]\n",
    "    print(f\"You are in the {game_state['current_room']['name']}.\\nHere you can see the following items: {', '.join(item_names)}.\")\n",
    "    examine_item_prompt()\n",
    "\n",
    "  print(\"Congratulations! You have escaped the room!\")\n",
    "\n",
    "start()"
   ]
  }
 ],
 "metadata": {
  "colab": {
   "provenance": []
  },
  "kernelspec": {
   "display_name": "Python 3 (ipykernel)",
   "language": "python",
   "name": "python3"
  },
  "language_info": {
   "codemirror_mode": {
    "name": "ipython",
    "version": 3
   },
   "file_extension": ".py",
   "mimetype": "text/x-python",
   "name": "python",
   "nbconvert_exporter": "python",
   "pygments_lexer": "ipython3",
   "version": "3.12.2"
  }
 },
 "nbformat": 4,
 "nbformat_minor": 4
}
