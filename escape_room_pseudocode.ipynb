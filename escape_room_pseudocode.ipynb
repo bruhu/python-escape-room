{
  "nbformat": 4,
  "nbformat_minor": 0,
  "metadata": {
    "colab": {
      "provenance": []
    },
    "kernelspec": {
      "name": "python3",
      "display_name": "Python 3"
    },
    "language_info": {
      "name": "python"
    }
  },
  "cells": [
    {
      "cell_type": "markdown",
      "source": [
        "# **Quest: Escape Room**\n",
        "\n",
        "[Full Exercise](https://my.ironhack.com/cohorts/64f9d75759b4b7002a871255/lms/courses/course-v1:IRONHACK+DAFT4+202410_RMT/modules/ironhack-course-chapter_1/units/ironhack-course-chapter_1-sequential_1-*vertical_3*)"
      ],
      "metadata": {
        "id": "NdbtmoFORTTF"
      }
    },
    {
      "cell_type": "markdown",
      "source": [
        "## Game Room\n",
        "\n",
        "1. Start, intro: display message explaining context:\n",
        "\n",
        "> *Suddenly, you find yourself waking up on an unfamiliar couch, in an eerie house devoid of windows. Your memory fails to provide any explanation about how you ended up here, or what transpired previously. You can sense an imminent threat lurking somewhere - your gut tells you to escape the house immediately! You look around and realize you're in a game room.\n",
        "“What should I do?” you ponder.*\n",
        "\n",
        "2. Display two options:\n",
        "  - Do nothing\n",
        "  - Explore the room.\n",
        "\n",
        "3. If nothing is chosen, display message (eg: \"nothing happens\"), if the room is explored, display message saying what's in it:\n",
        "  - A couch\n",
        "  - A piano\n",
        "  - A locked Door A\n",
        "\n",
        "4. Which element do you want to examine? Give three options:\n",
        "  - Explore couch -> \"The couch appears mundane and unexciting.\"\n",
        "  - Explore piano -> \"You found a key in the piano!\"\n",
        "  - Explore Door A -> \"The door is locked.\"\n",
        "\n",
        "5. Do you want to try the key for the locked door? `[Yes/No]`\n",
        "\n",
        "6. If no -> \"nothing happens\". If yes -> \"you enter Bedroom 1\".\n"
      ],
      "metadata": {
        "id": "XXqqpmp5F3rH"
      }
    },
    {
      "cell_type": "markdown",
      "source": [
        "## Bedroom 1\n",
        "\n",
        "1. Display message:\n",
        "> *Again, you find yourself contemplating - to explore or examine?*\n",
        "\n",
        "`[Explore / Examine]`\n",
        "\n",
        "❓ *Is there a difference between explore and examine? should we instead give a \"do nothing\" option?*\n",
        "\n",
        "2. Exploring reveals:\n",
        " - A queen bed\n",
        " - Door A\n",
        " - Door B\n",
        " - Door C\n",
        "\n",
        "3. Which element do you want to examine? Give 4 options:\n",
        "  - Explore queen bed -> \"Underneath the queen bed, you find a key.\"\n",
        "  - Explore Door A -> \"This is the door you came through.\"\n",
        "  - Explore Door B -> \"The door is locked.\"\n",
        "  - Explore Door C -> \"The door is locked.\"\n",
        "\n",
        "4. You have a key now, what do you want to do?\n",
        "  - Try key on Door B -> \"Door is open, you enter the next room\" (go to next step)\n",
        "  - Try key on Door C -> \"This key doesn't open this door.\""
      ],
      "metadata": {
        "id": "efBYNItMH8sl"
      }
    },
    {
      "cell_type": "markdown",
      "source": [
        "## Bedroom 2\n",
        "\n",
        "1. Display message:\n",
        "> *“What now?” you think.*\n",
        "\n",
        "2. Do you want to explore the room? `[Yes / No]`\n",
        "\n",
        "3. Exploring reveals:\n",
        "  - A double bed\n",
        "  - A dresser\n",
        "  - Door B\n",
        "\n",
        "4. Which element do you want to examine? Give 3 options:\n",
        "  - Explore double bed -> \"Underneath the double bed, you find a key.\"\n",
        "  - Explore dresser -> \"There is a key within the dresser.\"\n",
        "  - Explore Door B -> \"This is the door you came through.\"\n",
        "\n",
        "❓ *How to differentiate both keys? Directly saying which door they open, or give some distinction (color, material) to add exploring options?*\n",
        "\n",
        "5. Display message:\n",
        "> *Shall you retrace your steps through Door B?*\n",
        "\n",
        "`[Yes / No]`\n",
        "\n",
        "6. If yes, go to next step."
      ],
      "metadata": {
        "id": "mXWscAEGKt8d"
      }
    },
    {
      "cell_type": "markdown",
      "source": [
        "## Bedroom 1, again.\n",
        "\n",
        "1. Display message:\n",
        "> *Once again, you find yourself in Bedroom 1. “What's the next move?” you wonder.*\n",
        "\n",
        "2. Options: `[Do nothing / explore again (nothing new to be found) / try open Door C]`\n",
        "\n",
        "3. If you open Door C display message:\n",
        "> *With the key for Door C in your possession, you manage to unlock it. Are you ready to brave the unknown behind Door C?*\n",
        "\n",
        "4. Go to next step."
      ],
      "metadata": {
        "id": "y8Xq67DqKwyA"
      }
    },
    {
      "cell_type": "markdown",
      "source": [
        "## Living Room\n",
        "\n",
        "1. Display message:\n",
        "> *Stepping through Door C, you find yourself in the living room.\n",
        "“What secrets does this room hold?” you muse.*\n",
        "\n",
        "2. Options: `[Do nothing / Explore]`\n",
        "\n",
        "3. Exploring reveals:\n",
        " - Dining table\n",
        " - Door C\n",
        " - Door D\n",
        "\n",
        "4. Which element do you want to examine? Give 3 options:\n",
        "  - Explore dining table -> \"Underneath the double bed, you find a key.\"\n",
        "  - Explore Door C -> \"This is the door you came through.\"\n",
        "  - Explore Door D -> \"This door is locked.\"\n",
        "\n",
        "❓already add option to open door D on exploring options if you already explored dining table?\n",
        "\n",
        "5. Opening door D, display message:\n",
        "> *Is it time to step through Door D and see what lies beyond?*\n",
        "\n",
        "`[Yes/No]`\n",
        "\n",
        "6. Yes -> Go to next step.\n",
        "\n",
        "\n"
      ],
      "metadata": {
        "id": "kYJIokjAKzZE"
      }
    },
    {
      "cell_type": "markdown",
      "source": [
        "## Outside\n",
        "\n",
        "Display message:\n",
        "> *Freedom! You've managed to escape the room! Congrats on your successful adventure! Now, can you recount the thrilling journey and the clever strategy that got you here?*\n",
        "\n"
      ],
      "metadata": {
        "id": "PjQRGh7vK1yM"
      }
    }
  ]
}